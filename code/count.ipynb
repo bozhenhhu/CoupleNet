{
 "cells": [
  {
   "cell_type": "code",
   "execution_count": 1,
   "metadata": {},
   "outputs": [
    {
     "name": "stdout",
     "output_type": "stream",
     "text": [
      "Number of files in the folder: 19198\n"
     ]
    }
   ],
   "source": [
    "\n",
    "import os\n",
    " \n",
    "# 设置文件夹路径\n",
    "folder_path = './data/ec/coordinates'\n",
    " \n",
    "# 使用os.listdir列出文件夹内的所有文件和文件夹\n",
    "# 使用os.path.isfile判断是否是文件\n",
    "files_count = len([f for f in os.listdir(folder_path) if os.path.isfile(os.path.join(folder_path, f))])\n",
    " \n",
    "print(f'Number of files in the folder: {files_count}')"
   ]
  },
  {
   "cell_type": "code",
   "execution_count": null,
   "metadata": {},
   "outputs": [],
   "source": [
    "# 设置文件夹路径\n",
    "folder_paths = ['./data/Gearnet/EnzymeCommission/train', './data/Gearnet/EnzymeCommission/valid', './data/Gearnet/EnzymeCommission/test']\n",
    " \n",
    "# 使用os.listdir列出文件夹内的所有文件和文件夹\n",
    "# 使用os.path.isfile判断是否是文件\n",
    "files_count = 0\n",
    "for folder_path in folder_paths:\n",
    "    files_count += len([f for f in os.listdir(folder_path) if os.path.isfile(os.path.join(folder_path, f))])\n",
    " \n",
    "print(f'Number of files in the folder: {files_count}')"
   ]
  },
  {
   "cell_type": "code",
   "execution_count": 14,
   "metadata": {},
   "outputs": [
    {
     "name": "stderr",
     "output_type": "stream",
     "text": [
      "/opt/anaconda3/envs/myCDC/lib/python3.7/site-packages/Bio/PDB/Atom.py:232: PDBConstructionWarning: Used element 'U' for Atom (name=UNK) with given element ''\n",
      "  warnings.warn(msg, PDBConstructionWarning)\n",
      "/opt/anaconda3/envs/myCDC/lib/python3.7/site-packages/Bio/PDB/Atom.py:232: PDBConstructionWarning: Used element 'U' for Atom (name=UNK) with given element ''\n",
      "  warnings.warn(msg, PDBConstructionWarning)\n",
      "/opt/anaconda3/envs/myCDC/lib/python3.7/site-packages/Bio/PDB/Atom.py:232: PDBConstructionWarning: Used element 'U' for Atom (name=UNK) with given element ''\n",
      "  warnings.warn(msg, PDBConstructionWarning)\n",
      "/opt/anaconda3/envs/myCDC/lib/python3.7/site-packages/Bio/PDB/Atom.py:232: PDBConstructionWarning: Used element 'U' for Atom (name=UNK) with given element ''\n",
      "  warnings.warn(msg, PDBConstructionWarning)\n",
      "/opt/anaconda3/envs/myCDC/lib/python3.7/site-packages/Bio/PDB/Atom.py:232: PDBConstructionWarning: Used element 'U' for Atom (name=UNK) with given element ''\n",
      "  warnings.warn(msg, PDBConstructionWarning)\n"
     ]
    }
   ],
   "source": [
    "import os\n",
    "from Bio.Seq import Seq\n",
    "from Bio.SeqRecord import SeqRecord\n",
    "from Bio.SeqUtils import seq1\n",
    "from Bio.SeqIO.FastaIO import FastaWriter\n",
    "from Bio.PDB import PDBParser\n",
    "\n",
    "# 文件夹路径\n",
    "folder_path = \"./data/Gearnet/EnzymeCommission/test\"\n",
    "\n",
    "# 初始化FastaWriter\n",
    "fasta_file = os.path.join('./data/Gearnet/EnzymeCommission', 'test.fasta')\n",
    "with open(fasta_file, \"w\") as output_handle:\n",
    "    fasta_writer = FastaWriter(output_handle)\n",
    "    fasta_writer.write_header()\n",
    "\n",
    "    # 遍历文件夹中的所有pdb文件\n",
    "    for file_name in os.listdir(folder_path):\n",
    "        if file_name.endswith(\".pdb\"):\n",
    "            pdb_file = os.path.join(folder_path, file_name)\n",
    "\n",
    "            # 读取PDB文件\n",
    "            parser = PDBParser()\n",
    "            try:\n",
    "                structure = parser.get_structure(\"structure\", pdb_file)\n",
    "\n",
    "                # 提取氨基酸序列并转换为一字母表示\n",
    "                seq = \"\"\n",
    "                for model in structure:\n",
    "                    for chain in model:\n",
    "                        for residue in chain:\n",
    "                            if residue.get_id()[0] == \" \":\n",
    "                                aa_three = residue.get_resname()\n",
    "                                aa_one = seq1(aa_three)  # 将三字母表示形式转换为一字母表示形式\n",
    "                                seq += aa_one\n",
    "            except:\n",
    "                pass\n",
    "\n",
    "            # 创建SeqRecord对象并写入FASTA文件\n",
    "            record = SeqRecord(Seq(seq), id=file_name.replace(\".pdb\", \"\"))\n",
    "            fasta_writer.write_record(record)"
   ]
  }
 ],
 "metadata": {
  "kernelspec": {
   "display_name": "myCDC",
   "language": "python",
   "name": "python3"
  },
  "language_info": {
   "codemirror_mode": {
    "name": "ipython",
    "version": 3
   },
   "file_extension": ".py",
   "mimetype": "text/x-python",
   "name": "python",
   "nbconvert_exporter": "python",
   "pygments_lexer": "ipython3",
   "version": "3.7.11"
  }
 },
 "nbformat": 4,
 "nbformat_minor": 2
}
